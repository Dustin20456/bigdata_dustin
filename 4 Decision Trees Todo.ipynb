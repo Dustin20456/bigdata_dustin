{
 "cells": [
  {
   "cell_type": "code",
   "execution_count": 2,
   "metadata": {},
   "outputs": [],
   "source": [
    "# import symbolic capability to Python\n",
    "from sympy import *\n",
    "# print things all pretty\n",
    "from sympy.abc import *\n",
    "from sympy.plotting import plot\n",
    "import matplotlib.pyplot as plt\n",
    "import numpy as np\n",
    "from IPython.display import display\n",
    "init_printing()\n",
    "import math"
   ]
  },
  {
   "cell_type": "markdown",
   "metadata": {},
   "source": [
    "# Exercise\n",
    "\n",
    "You have a dataset with $m$ binary columns and $n$ rows. A given decision tree has the depth $d$.\n",
    "\n",
    "## Questions:\n",
    "1. How many different decision trees with depth $d=1$ are possible for a dataset with $m$ binary columns and $n$ rows?\n",
    "2. How many different decision trees with depth $d=2$ are possible for a dataset with $m$ binary columns and $n$ rows?\n",
    "3. How many different decision trees with depth $d=3$ are possible for a dataset with $m$ binary columns and $n$ rows?\n",
    "4. How many different decision trees with depth $d=4$ are possible for a dataset with $m$ binary columns and $n$ rows?\n",
    "5. In general, how many different decision trees with depth $d$ are possible for a dataset with $m$ binary columns and $n$ rows?\n",
    "6. How may different decision trees are possible for $m=4$ and $d=4$?\n",
    "7. In general, how many different decision trees of any depth are possible for a dataset with $m$ binary columns and $n$ rows?\n",
    "8. How many decision trees are possible for $m=4$ binary columns?\n",
    "9. There are $10^{80}$ atoms in the universe. What is the value for $m$ so that the number of decision trees is greater than the number of atoms in the universe?\n",
    "10. How many operations (steps) does the naive testing take of all possible decision trees for a dataset with $m$ binary columns and $n$ rows?\n",
    "11. How many operations (steps) does the naive testing take of all possible decision trees for a dataset with $m=3$ binary columns and $n=100$ rows?"
   ]
  },
  {
   "cell_type": "markdown",
   "metadata": {},
   "source": [
    "Variables:\n",
    "* $n$: number of rows of the data\n",
    "* $m$: number of binary columns (attributes) of the data\n",
    "* $d$: depth of the decision tree"
   ]
  },
  {
   "cell_type": "markdown",
   "metadata": {},
   "source": [
    "Let  n  = number of training examples,  m  = number of features, and  d  = depth of the decision tree.\n",
    "\n",
    "A decision tree would calculate a quality function based on each split of the data, and it does this for each feature in every node that is not a leaf node. This happens as long as there are levels (depth) to continue to. In the best case of a balanced tree the depth would be in  O(logN) , but the decision tree does locally optimal splits without caring much about balancing. This means that the worst case of depth being in  O(N)  is possible - basically when each split simply splits data in 1 and n-1 examples, where n is the number of examples of the current node.\n",
    "\n",
    "So to conclude, the time complexity for decision trees is in O(nmd) . This means that it’s actually somewhere in between being in  O(nm log n)  and  O(n^2 * m) .\n",
    "\n",
    "The uncertainty here is due to the non-deterministic way in which decision trees are built, always splitting data based on locally optimal thresholds with close to no consideration for overall balance. Keep in mind building a globally optimal decision tree is an NP-hard problem"
   ]
  },
  {
   "cell_type": "code",
   "execution_count": 3,
   "metadata": {},
   "outputs": [],
   "source": [
    "m = symbols(\"m\", positive=True, integer=True)\n",
    "d = symbols(\"d\", positive=True, integer=True)\n",
    "n = symbols(\"n\", positive=True, integer=True)"
   ]
  },
  {
   "cell_type": "markdown",
   "metadata": {},
   "source": [
    "Building on Amir’s response, the depth of a tree is O(logn), where n is the number of rows of data and the tree is assumed to be relatively balanced. Example: If you have 8 data points you have at max 8 leafs, and assuming a balanced binary tree that is a height of 3 or log_2(8))."
   ]
  },
  {
   "cell_type": "markdown",
   "metadata": {},
   "source": [
    "## Answers:\n",
    "\n",
    "Todo"
   ]
  },
  {
   "cell_type": "code",
   "execution_count": 33,
   "metadata": {},
   "outputs": [
    {
     "name": "stdout",
     "output_type": "stream",
     "text": [
      "3 7 15 31\n"
     ]
    }
   ],
   "source": [
    "#1\n",
    "# n! / (n-k)! -> n = number of columns, k = size of tree (number of nodes)\n",
    "# since it is binary it only consideres the variables itself for the split \n",
    "# -> n is not important for that\n",
    "# size = 2 ** d+1   - 1\n",
    "\n",
    "k_1 = 2**(1+1) -1\n",
    "k_2 = 2**(2+1) -1\n",
    "k_3 = 2**(3+1) -1\n",
    "k_4 = 2**(4+1) -1\n",
    "\n",
    "print(k_1, k_2, k_3, k_4)\n",
    "\n",
    "\n"
   ]
  },
  {
   "cell_type": "code",
   "execution_count": null,
   "metadata": {},
   "outputs": [],
   "source": [
    "#1 to 4\n",
    "f_1 = factorial(m) / factorial(m-3)\n",
    "f_2 = factorial(m) / factorial(m-7)\n",
    "f_3 = factorial(m) / factorial(m-15)\n",
    "f_4 = factorial(m) / factorial(m-31)"
   ]
  },
  {
   "cell_type": "code",
   "execution_count": 39,
   "metadata": {},
   "outputs": [],
   "source": [
    "# 5\n",
    "f_general = factorial(m) / factorial(m-((2**(d+1))- 1))\n"
   ]
  },
  {
   "cell_type": "code",
   "execution_count": null,
   "metadata": {},
   "outputs": [],
   "source": [
    "#6 4! since only 4 columns -> will never reach depth of 4\n",
    "\n",
    "f_m4d4 = factorial(4) / factorial(m-3)"
   ]
  },
  {
   "cell_type": "code",
   "execution_count": null,
   "metadata": {},
   "outputs": [],
   "source": [
    "#7 isn't this the same as question 5?"
   ]
  },
  {
   "cell_type": "code",
   "execution_count": null,
   "metadata": {},
   "outputs": [],
   "source": [
    "#8 same as question 6?\n",
    "\n",
    "f_m4 = factorial(4) / factorial(m-((2**(d+1))- 1))"
   ]
  },
  {
   "cell_type": "code",
   "execution_count": 38,
   "metadata": {},
   "outputs": [
    {
     "name": "stdout",
     "output_type": "stream",
     "text": [
      "59\n"
     ]
    }
   ],
   "source": [
    "# 9\n",
    "\n",
    "#here it is just multiplying values which are increasing by 1 untill\n",
    "#it reaches a value bigger than 10**80\n",
    "n_fact = 1\n",
    "total = 1\n",
    "\n",
    "while True:\n",
    "    n_fact += 1\n",
    "    total *= n_fact\n",
    "    if total > (10**80):\n",
    "        print(n_fact)\n",
    "        break"
   ]
  },
  {
   "cell_type": "code",
   "execution_count": null,
   "metadata": {},
   "outputs": [],
   "source": [
    "# 10 \n",
    "\n",
    "# What is naive testing? \n",
    "# Does it mean that the variables are independent?\n",
    "# don't know if this is true?\n",
    "n_operations = n * factorial(m) / factorial(m-((2**(d+1))- 1))"
   ]
  },
  {
   "cell_type": "code",
   "execution_count": 4,
   "metadata": {},
   "outputs": [
    {
     "name": "stdout",
     "output_type": "stream",
     "text": [
      "600\n"
     ]
    }
   ],
   "source": [
    "# 11\n",
    "# tree can only have three nodes\n",
    "n_operations = 100 * factorial(3) / factorial(3-3)\n",
    "\n",
    "print(n_operations)"
   ]
  }
 ],
 "metadata": {
  "kernelspec": {
   "display_name": "Python 3",
   "language": "python",
   "name": "python3"
  },
  "language_info": {
   "codemirror_mode": {
    "name": "ipython",
    "version": 3
   },
   "file_extension": ".py",
   "mimetype": "text/x-python",
   "name": "python",
   "nbconvert_exporter": "python",
   "pygments_lexer": "ipython3",
   "version": "3.7.6"
  },
  "varInspector": {
   "cols": {
    "lenName": 16,
    "lenType": 16,
    "lenVar": 40
   },
   "kernels_config": {
    "python": {
     "delete_cmd_postfix": "",
     "delete_cmd_prefix": "del ",
     "library": "var_list.py",
     "varRefreshCmd": "print(var_dic_list())"
    },
    "r": {
     "delete_cmd_postfix": ") ",
     "delete_cmd_prefix": "rm(",
     "library": "var_list.r",
     "varRefreshCmd": "cat(var_dic_list()) "
    }
   },
   "types_to_exclude": [
    "module",
    "function",
    "builtin_function_or_method",
    "instance",
    "_Feature"
   ],
   "window_display": false
  }
 },
 "nbformat": 4,
 "nbformat_minor": 2
}
